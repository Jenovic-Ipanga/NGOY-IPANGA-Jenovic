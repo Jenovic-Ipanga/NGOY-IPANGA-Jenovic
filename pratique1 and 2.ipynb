{
 "cells": [
  {
   "cell_type": "markdown",
   "id": "2235d1eb-8e4d-495a-84f5-ba0ec1bb164f",
   "metadata": {},
   "source": [
    "# Importation des librairies"
   ]
  },
  {
   "cell_type": "code",
   "execution_count": 5,
   "id": "a74e291a-7838-44d3-ac68-e19cec563104",
   "metadata": {},
   "outputs": [],
   "source": [
    "import numpy as np\n",
    "import seaborn as sns\n",
    "import pandas as pd\n",
    "import matplotlib.pyplot as plt"
   ]
  },
  {
   "cell_type": "code",
   "execution_count": 6,
   "id": "55af358e-9890-4a30-8575-e68d9c2adc33",
   "metadata": {},
   "outputs": [],
   "source": [
    "def affichage(array):\n",
    "    print(f\"la dimension du tableau: ' {array.shape} '\")\n",
    "    print(f\"le type du tableau: ' {type(array)} '\")\n",
    "    print(array)"
   ]
  },
  {
   "cell_type": "markdown",
   "id": "97143681-1410-4442-b55f-c5b97a63d3f9",
   "metadata": {},
   "source": [
    "# Tableaux"
   ]
  },
  {
   "cell_type": "markdown",
   "id": "039d5d51-5217-4b6d-b904-99431990cea7",
   "metadata": {},
   "source": [
    "## 1.1 Tableau a une seule dimension"
   ]
  },
  {
   "cell_type": "code",
   "execution_count": 9,
   "id": "a64b1268-2b12-49ed-ab13-ae2096dec4d0",
   "metadata": {},
   "outputs": [
    {
     "name": "stdout",
     "output_type": "stream",
     "text": [
      "la dimension du tableau: ' (6,) '\n",
      "le type du tableau: ' <class 'numpy.ndarray'> '\n",
      "[120 234 367 674 345  78]\n"
     ]
    }
   ],
   "source": [
    "one_dim_array = np.array([120, 234, 367, 674, 345, 78])\n",
    "affichage(one_dim_array)"
   ]
  },
  {
   "cell_type": "markdown",
   "id": "ffdb17fd-9355-415e-a552-189c0a96e1f7",
   "metadata": {},
   "source": [
    "## 1.2 Tableau a deux dimensions"
   ]
  },
  {
   "cell_type": "code",
   "execution_count": 11,
   "id": "840215ed-6a04-4c40-9ec2-c263e534ebed",
   "metadata": {},
   "outputs": [
    {
     "name": "stdout",
     "output_type": "stream",
     "text": [
      "la dimension du tableau: ' (2, 4) '\n",
      "le type du tableau: ' <class 'numpy.ndarray'> '\n",
      "[[12 34 23 56]\n",
      " [78 44 34 78]]\n"
     ]
    }
   ],
   "source": [
    "two_dim_array = np.array([\n",
    "    [12, 34, 23, 56],\n",
    "    [78, 44, 34, 78],\n",
    "])\n",
    "affichage(two_dim_array)"
   ]
  },
  {
   "cell_type": "markdown",
   "id": "01a57819-2aca-4679-96f9-2392ed511287",
   "metadata": {},
   "source": [
    "# 1.3 Tableau a trois dimensions "
   ]
  },
  {
   "cell_type": "code",
   "execution_count": 13,
   "id": "02ce9285-af14-456a-bf7f-ebfaf9edc745",
   "metadata": {},
   "outputs": [
    {
     "name": "stdout",
     "output_type": "stream",
     "text": [
      "la dimension du tableau: ' (1, 3, 5) '\n",
      "le type du tableau: ' <class 'numpy.ndarray'> '\n",
      "[[[1 5 6 7 4]\n",
      "  [3 5 5 7 3]\n",
      "  [7 3 1 9 4]]]\n"
     ]
    }
   ],
   "source": [
    "tab_3D = np.array([[\n",
    "    [1, 5, 6, 7, 4],\n",
    "    [3, 5, 5, 7, 3],\n",
    "    [7, 3, 1, 9, 4],\n",
    "]])\n",
    "affichage(tab_3D)\n",
    "    "
   ]
  },
  {
   "cell_type": "markdown",
   "id": "fed4b99a-5d31-40bb-99b2-5b693adc438a",
   "metadata": {},
   "source": [
    "## 1.4 Tableau a 4 dimension"
   ]
  },
  {
   "cell_type": "code",
   "execution_count": 20,
   "id": "8f217505-ac05-44ed-80d2-d9241465a972",
   "metadata": {},
   "outputs": [
    {
     "name": "stdout",
     "output_type": "stream",
     "text": [
      "la dimension du tableau: ' (1, 1, 3, 5) '\n",
      "le type du tableau: ' <class 'numpy.ndarray'> '\n",
      "[[[[  13   54   65   76   47]\n",
      "   [ 300  500 5878  700  300]\n",
      "   [ 754  367  176  900  433]]]]\n"
     ]
    }
   ],
   "source": [
    "tab_4D = np.array([[[\n",
    "    [13, 54, 65, 76, 47],\n",
    "    [300, 500, 5878, 700, 300],\n",
    "    [754, 367, 176, 900, 433],\n",
    "]]])\n",
    "affichage(tab_4D)"
   ]
  },
  {
   "cell_type": "markdown",
   "id": "90660112-4a2a-4a12-a59c-c91dd5c68d41",
   "metadata": {},
   "source": [
    "## Manipulation des données "
   ]
  },
  {
   "cell_type": "code",
   "execution_count": 23,
   "id": "ca03df67-c176-4325-aa09-00981c880b05",
   "metadata": {},
   "outputs": [
    {
     "data": {
      "text/html": [
       "<div>\n",
       "<style scoped>\n",
       "    .dataframe tbody tr th:only-of-type {\n",
       "        vertical-align: middle;\n",
       "    }\n",
       "\n",
       "    .dataframe tbody tr th {\n",
       "        vertical-align: top;\n",
       "    }\n",
       "\n",
       "    .dataframe thead th {\n",
       "        text-align: right;\n",
       "    }\n",
       "</style>\n",
       "<table border=\"1\" class=\"dataframe\">\n",
       "  <thead>\n",
       "    <tr style=\"text-align: right;\">\n",
       "      <th></th>\n",
       "      <th>nombre_piece</th>\n",
       "      <th>adresse</th>\n",
       "      <th>garantie</th>\n",
       "      <th>prix</th>\n",
       "      <th>surface</th>\n",
       "      <th>année_construction</th>\n",
       "      <th>categories</th>\n",
       "    </tr>\n",
       "  </thead>\n",
       "  <tbody>\n",
       "    <tr>\n",
       "      <th>0</th>\n",
       "      <td>2</td>\n",
       "      <td>sola</td>\n",
       "      <td>230</td>\n",
       "      <td>60</td>\n",
       "      <td>50</td>\n",
       "      <td>2015</td>\n",
       "      <td>Appartement</td>\n",
       "    </tr>\n",
       "    <tr>\n",
       "      <th>1</th>\n",
       "      <td>3</td>\n",
       "      <td>golf</td>\n",
       "      <td>1200</td>\n",
       "      <td>360</td>\n",
       "      <td>75</td>\n",
       "      <td>2018</td>\n",
       "      <td>Maison</td>\n",
       "    </tr>\n",
       "    <tr>\n",
       "      <th>2</th>\n",
       "      <td>4</td>\n",
       "      <td>kasapa</td>\n",
       "      <td>340</td>\n",
       "      <td>230</td>\n",
       "      <td>80</td>\n",
       "      <td>2017</td>\n",
       "      <td>Appartement</td>\n",
       "    </tr>\n",
       "    <tr>\n",
       "      <th>3</th>\n",
       "      <td>5</td>\n",
       "      <td>Kasangulu</td>\n",
       "      <td>500</td>\n",
       "      <td>100</td>\n",
       "      <td>65</td>\n",
       "      <td>2016</td>\n",
       "      <td>Maison</td>\n",
       "    </tr>\n",
       "    <tr>\n",
       "      <th>4</th>\n",
       "      <td>3</td>\n",
       "      <td>kinshasa</td>\n",
       "      <td>1500</td>\n",
       "      <td>450</td>\n",
       "      <td>90</td>\n",
       "      <td>2019</td>\n",
       "      <td>Appartement</td>\n",
       "    </tr>\n",
       "  </tbody>\n",
       "</table>\n",
       "</div>"
      ],
      "text/plain": [
       "   nombre_piece    adresse  garantie  prix  surface  année_construction  \\\n",
       "0             2       sola       230    60       50                2015   \n",
       "1             3       golf      1200   360       75                2018   \n",
       "2             4     kasapa       340   230       80                2017   \n",
       "3             5  Kasangulu       500   100       65                2016   \n",
       "4             3   kinshasa      1500   450       90                2019   \n",
       "\n",
       "    categories  \n",
       "0  Appartement  \n",
       "1       Maison  \n",
       "2  Appartement  \n",
       "3       Maison  \n",
       "4  Appartement  "
      ]
     },
     "execution_count": 23,
     "metadata": {},
     "output_type": "execute_result"
    }
   ],
   "source": [
    "data = pd.DataFrame({\n",
    "    \"nombre_piece\": [2, 3, 4, 5, 3, 4, 2, 5, 3, 4, 2, 5, 3, 4, 2],\n",
    "    \"adresse\": [\"sola\", \"golf\", \"kasapa\", \"Kasangulu\", \"kinshasa\", \"lubumbashi\", \"kolwezi\", \"kananga\", \"mbuji-mayi\", \"tshikapa\", \"boma\", \"bandundu\", \"kikwit\", \"mbandaka\", \"isiro\"],\n",
    "    \"garantie\": [230, 1200, 340, 500, 1500, 800, 400, 1000, 600, 450, 300, 200, 550, 750, 650],\n",
    "    \"prix\": [60, 360, 230, 100, 450, 300, 150, 400, 250, 350, 200, 100, 275, 375, 325],\n",
    "    \"surface\": [50, 75, 80, 65, 90, 100, 55, 85, 70, 95, 60, 45, 68, 78, 62],\n",
    "    \"année_construction\": [2015, 2018, 2017, 2016, 2019, 2020, 2014, 2013, 2021, 2010, 2009, 2012, 2022, 2008, 2011],\n",
    "    \"categories\": [\"Appartement\", \"Maison\", \"Appartement\", \"Maison\", \"Appartement\", \"Maison\", \"Appartement\", \"Maison\", \"Appartement\", \"Maison\", \"Appartement\", \"Maison\", \"Appartement\", \"Maison\", \"Appartement\"]\n",
    "})\n",
    "\n",
    "data.head()"
   ]
  },
  {
   "cell_type": "code",
   "execution_count": 25,
   "id": "30248b17-7b28-441f-b5e9-19cc5c8f8627",
   "metadata": {},
   "outputs": [
    {
     "data": {
      "text/plain": [
       "<Axes: xlabel='garantie', ylabel='count'>"
      ]
     },
     "execution_count": 25,
     "metadata": {},
     "output_type": "execute_result"
    },
    {
     "data": {
      "image/png": "[encoded data removed]",
      "text/plain": [
       "<Figure size 640x480 with 1 Axes>"
      ]
     },
     "metadata": {},
     "output_type": "display_data"
    }
   ],
   "source": [
    "sns.countplot(data=data, x=\"garantie\")"
   ]
  },
  {
   "cell_type": "markdown",
   "id": "70a4915b-cf17-4c21-9484-d0aa89a74d74",
   "metadata": {},
   "source": [
    "## Opérations sur le tableau"
   ]
  },
  {
   "cell_type": "markdown",
   "id": "9d85278d-965a-4f61-8171-a0ca6c03e59d",
   "metadata": {},
   "source": [
    "## B.1 soustraction "
   ]
  },
  {
   "cell_type": "code",
   "execution_count": 29,
   "id": "edb3b745-749d-45fd-ab6e-29aa9cb9aa78",
   "metadata": {},
   "outputs": [
    {
     "name": "stdout",
     "output_type": "stream",
     "text": [
      "[[-3  3  4  1]\n",
      " [-9 -1 -4  1]]\n"
     ]
    }
   ],
   "source": [
    "a = np.array([\n",
    "    [2, 9, 9, 4],\n",
    "    [3, 7, 4, 3],\n",
    "])\n",
    "\n",
    "b = np.array([\n",
    "    [5, 6, 5, 3],\n",
    "    [12, 8, 8, 2]\n",
    "])\n",
    "\n",
    "print(a - b)\n",
    "    "
   ]
  },
  {
   "cell_type": "code",
   "execution_count": 31,
   "id": "acecd54c-fd2e-4461-9895-26b3a83f5b29",
   "metadata": {},
   "outputs": [
    {
     "data": {
      "text/plain": [
       "(2, 4)"
      ]
     },
     "execution_count": 31,
     "metadata": {},
     "output_type": "execute_result"
    }
   ],
   "source": [
    "a.shape"
   ]
  },
  {
   "cell_type": "code",
   "execution_count": 33,
   "id": "9a9fe562-df8d-4e6f-93bb-91394bd11848",
   "metadata": {},
   "outputs": [
    {
     "data": {
      "text/plain": [
       "(2, 4)"
      ]
     },
     "execution_count": 33,
     "metadata": {},
     "output_type": "execute_result"
    }
   ],
   "source": [
    "b.shape"
   ]
  },
  {
   "cell_type": "markdown",
   "id": "476917d0-8db9-4cf7-8a5f-6141753daadd",
   "metadata": {},
   "source": [
    "## B.2 Addition"
   ]
  },
  {
   "cell_type": "code",
   "execution_count": 36,
   "id": "398a3f5a-8209-4c07-8fe0-76156b209ea9",
   "metadata": {},
   "outputs": [
    {
     "name": "stdout",
     "output_type": "stream",
     "text": [
      "[[ 7  9 10 12]\n",
      " [15 15 16 11]]\n"
     ]
    }
   ],
   "source": [
    "a = np.array([\n",
    "    [2, 3, 5, 9],\n",
    "    [3, 7, 8, 9],\n",
    "])\n",
    "b = np.array([\n",
    "    [5, 6, 5, 3],\n",
    "    [12, 8, 8, 2]\n",
    "])\n",
    "\n",
    "print(a + b)\n",
    "    "
   ]
  },
  {
   "cell_type": "code",
   "execution_count": null,
   "id": "b5d4cd9a-98ac-4823-b103-6ca5d80af7cf",
   "metadata": {},
   "outputs": [],
   "source": []
  },
  {
   "cell_type": "markdown",
   "id": "e95978a8-e56d-49b4-8593-c67ce26eea18",
   "metadata": {},
   "source": [
    "## B.1 MULTIOLICATION"
   ]
  },
  {
   "cell_type": "code",
   "execution_count": 40,
   "id": "b1d354d0-fa9f-41f9-964d-bdf866baa6ae",
   "metadata": {},
   "outputs": [
    {
     "name": "stdout",
     "output_type": "stream",
     "text": [
      "[[10 18 25 27]\n",
      " [36 56 64 18]]\n"
     ]
    }
   ],
   "source": [
    "a = np.array([\n",
    "    [2, 3, 5, 9],\n",
    "    [3, 7, 8, 9],\n",
    "])\n",
    "b = np.array([\n",
    "    [5, 6, 5, 3],\n",
    "    [12, 8, 8, 2]\n",
    "])\n",
    "\n",
    "print(a * b)"
   ]
  },
  {
   "cell_type": "code",
   "execution_count": 42,
   "id": "d961e49d-b5e6-46c2-aad5-dd288984beb3",
   "metadata": {},
   "outputs": [
    {
     "data": {
      "text/html": [
       "<div>\n",
       "<style scoped>\n",
       "    .dataframe tbody tr th:only-of-type {\n",
       "        vertical-align: middle;\n",
       "    }\n",
       "\n",
       "    .dataframe tbody tr th {\n",
       "        vertical-align: top;\n",
       "    }\n",
       "\n",
       "    .dataframe thead th {\n",
       "        text-align: right;\n",
       "    }\n",
       "</style>\n",
       "<table border=\"1\" class=\"dataframe\">\n",
       "  <thead>\n",
       "    <tr style=\"text-align: right;\">\n",
       "      <th></th>\n",
       "      <th>nombre_piece</th>\n",
       "      <th>adresse</th>\n",
       "      <th>garantie</th>\n",
       "      <th>prix</th>\n",
       "      <th>surface</th>\n",
       "      <th>année_construction</th>\n",
       "      <th>categories</th>\n",
       "    </tr>\n",
       "  </thead>\n",
       "  <tbody>\n",
       "    <tr>\n",
       "      <th>0</th>\n",
       "      <td>2</td>\n",
       "      <td>sola</td>\n",
       "      <td>230</td>\n",
       "      <td>60</td>\n",
       "      <td>50</td>\n",
       "      <td>2015</td>\n",
       "      <td>Appartement</td>\n",
       "    </tr>\n",
       "    <tr>\n",
       "      <th>1</th>\n",
       "      <td>3</td>\n",
       "      <td>golf</td>\n",
       "      <td>1200</td>\n",
       "      <td>360</td>\n",
       "      <td>75</td>\n",
       "      <td>2018</td>\n",
       "      <td>Maison</td>\n",
       "    </tr>\n",
       "    <tr>\n",
       "      <th>2</th>\n",
       "      <td>4</td>\n",
       "      <td>kasapa</td>\n",
       "      <td>340</td>\n",
       "      <td>230</td>\n",
       "      <td>80</td>\n",
       "      <td>2017</td>\n",
       "      <td>Appartement</td>\n",
       "    </tr>\n",
       "    <tr>\n",
       "      <th>3</th>\n",
       "      <td>5</td>\n",
       "      <td>Kasangulu</td>\n",
       "      <td>500</td>\n",
       "      <td>100</td>\n",
       "      <td>65</td>\n",
       "      <td>2016</td>\n",
       "      <td>Maison</td>\n",
       "    </tr>\n",
       "    <tr>\n",
       "      <th>4</th>\n",
       "      <td>3</td>\n",
       "      <td>kinshasa</td>\n",
       "      <td>1500</td>\n",
       "      <td>450</td>\n",
       "      <td>90</td>\n",
       "      <td>2019</td>\n",
       "      <td>Appartement</td>\n",
       "    </tr>\n",
       "    <tr>\n",
       "      <th>5</th>\n",
       "      <td>4</td>\n",
       "      <td>lubumbashi</td>\n",
       "      <td>800</td>\n",
       "      <td>300</td>\n",
       "      <td>100</td>\n",
       "      <td>2020</td>\n",
       "      <td>Maison</td>\n",
       "    </tr>\n",
       "    <tr>\n",
       "      <th>6</th>\n",
       "      <td>2</td>\n",
       "      <td>kolwezi</td>\n",
       "      <td>400</td>\n",
       "      <td>150</td>\n",
       "      <td>55</td>\n",
       "      <td>2014</td>\n",
       "      <td>Appartement</td>\n",
       "    </tr>\n",
       "    <tr>\n",
       "      <th>7</th>\n",
       "      <td>5</td>\n",
       "      <td>kananga</td>\n",
       "      <td>1000</td>\n",
       "      <td>400</td>\n",
       "      <td>85</td>\n",
       "      <td>2013</td>\n",
       "      <td>Maison</td>\n",
       "    </tr>\n",
       "    <tr>\n",
       "      <th>8</th>\n",
       "      <td>3</td>\n",
       "      <td>mbuji-mayi</td>\n",
       "      <td>600</td>\n",
       "      <td>250</td>\n",
       "      <td>70</td>\n",
       "      <td>2021</td>\n",
       "      <td>Appartement</td>\n",
       "    </tr>\n",
       "    <tr>\n",
       "      <th>9</th>\n",
       "      <td>4</td>\n",
       "      <td>tshikapa</td>\n",
       "      <td>450</td>\n",
       "      <td>350</td>\n",
       "      <td>95</td>\n",
       "      <td>2010</td>\n",
       "      <td>Maison</td>\n",
       "    </tr>\n",
       "    <tr>\n",
       "      <th>10</th>\n",
       "      <td>2</td>\n",
       "      <td>boma</td>\n",
       "      <td>300</td>\n",
       "      <td>200</td>\n",
       "      <td>60</td>\n",
       "      <td>2009</td>\n",
       "      <td>Appartement</td>\n",
       "    </tr>\n",
       "    <tr>\n",
       "      <th>11</th>\n",
       "      <td>5</td>\n",
       "      <td>bandundu</td>\n",
       "      <td>200</td>\n",
       "      <td>100</td>\n",
       "      <td>45</td>\n",
       "      <td>2012</td>\n",
       "      <td>Maison</td>\n",
       "    </tr>\n",
       "    <tr>\n",
       "      <th>12</th>\n",
       "      <td>3</td>\n",
       "      <td>kikwit</td>\n",
       "      <td>550</td>\n",
       "      <td>275</td>\n",
       "      <td>68</td>\n",
       "      <td>2022</td>\n",
       "      <td>Appartement</td>\n",
       "    </tr>\n",
       "    <tr>\n",
       "      <th>13</th>\n",
       "      <td>4</td>\n",
       "      <td>mbandaka</td>\n",
       "      <td>750</td>\n",
       "      <td>375</td>\n",
       "      <td>78</td>\n",
       "      <td>2008</td>\n",
       "      <td>Maison</td>\n",
       "    </tr>\n",
       "    <tr>\n",
       "      <th>14</th>\n",
       "      <td>2</td>\n",
       "      <td>isiro</td>\n",
       "      <td>650</td>\n",
       "      <td>325</td>\n",
       "      <td>62</td>\n",
       "      <td>2011</td>\n",
       "      <td>Appartement</td>\n",
       "    </tr>\n",
       "  </tbody>\n",
       "</table>\n",
       "</div>"
      ],
      "text/plain": [
       "    nombre_piece     adresse  garantie  prix  surface  année_construction  \\\n",
       "0              2        sola       230    60       50                2015   \n",
       "1              3        golf      1200   360       75                2018   \n",
       "2              4      kasapa       340   230       80                2017   \n",
       "3              5   Kasangulu       500   100       65                2016   \n",
       "4              3    kinshasa      1500   450       90                2019   \n",
       "5              4  lubumbashi       800   300      100                2020   \n",
       "6              2     kolwezi       400   150       55                2014   \n",
       "7              5     kananga      1000   400       85                2013   \n",
       "8              3  mbuji-mayi       600   250       70                2021   \n",
       "9              4    tshikapa       450   350       95                2010   \n",
       "10             2        boma       300   200       60                2009   \n",
       "11             5    bandundu       200   100       45                2012   \n",
       "12             3      kikwit       550   275       68                2022   \n",
       "13             4    mbandaka       750   375       78                2008   \n",
       "14             2       isiro       650   325       62                2011   \n",
       "\n",
       "     categories  \n",
       "0   Appartement  \n",
       "1        Maison  \n",
       "2   Appartement  \n",
       "3        Maison  \n",
       "4   Appartement  \n",
       "5        Maison  \n",
       "6   Appartement  \n",
       "7        Maison  \n",
       "8   Appartement  \n",
       "9        Maison  \n",
       "10  Appartement  \n",
       "11       Maison  \n",
       "12  Appartement  \n",
       "13       Maison  \n",
       "14  Appartement  "
      ]
     },
     "execution_count": 42,
     "metadata": {},
     "output_type": "execute_result"
    }
   ],
   "source": [
    "data"
   ]
  },
  {
   "cell_type": "markdown",
   "id": "97d462d4-3c4f-43af-a248-197e5e179202",
   "metadata": {},
   "source": [
    "## Ajout de colonne dans un tableau pandas"
   ]
  },
  {
   "cell_type": "code",
   "execution_count": 45,
   "id": "499da90c-2d95-4db2-87af-bda478af2fde",
   "metadata": {},
   "outputs": [
    {
     "data": {
      "text/html": [
       "<div>\n",
       "<style scoped>\n",
       "    .dataframe tbody tr th:only-of-type {\n",
       "        vertical-align: middle;\n",
       "    }\n",
       "\n",
       "    .dataframe tbody tr th {\n",
       "        vertical-align: top;\n",
       "    }\n",
       "\n",
       "    .dataframe thead th {\n",
       "        text-align: right;\n",
       "    }\n",
       "</style>\n",
       "<table border=\"1\" class=\"dataframe\">\n",
       "  <thead>\n",
       "    <tr style=\"text-align: right;\">\n",
       "      <th></th>\n",
       "      <th>nombre_piece</th>\n",
       "      <th>adresse</th>\n",
       "      <th>garantie</th>\n",
       "      <th>prix</th>\n",
       "      <th>surface</th>\n",
       "      <th>année_construction</th>\n",
       "      <th>categories</th>\n",
       "      <th>genre</th>\n",
       "    </tr>\n",
       "  </thead>\n",
       "  <tbody>\n",
       "    <tr>\n",
       "      <th>0</th>\n",
       "      <td>2</td>\n",
       "      <td>sola</td>\n",
       "      <td>230</td>\n",
       "      <td>60</td>\n",
       "      <td>50</td>\n",
       "      <td>2015</td>\n",
       "      <td>Appartement</td>\n",
       "      <td>1</td>\n",
       "    </tr>\n",
       "    <tr>\n",
       "      <th>1</th>\n",
       "      <td>3</td>\n",
       "      <td>golf</td>\n",
       "      <td>1200</td>\n",
       "      <td>360</td>\n",
       "      <td>75</td>\n",
       "      <td>2018</td>\n",
       "      <td>Maison</td>\n",
       "      <td>0</td>\n",
       "    </tr>\n",
       "    <tr>\n",
       "      <th>2</th>\n",
       "      <td>4</td>\n",
       "      <td>kasapa</td>\n",
       "      <td>340</td>\n",
       "      <td>230</td>\n",
       "      <td>80</td>\n",
       "      <td>2017</td>\n",
       "      <td>Appartement</td>\n",
       "      <td>1</td>\n",
       "    </tr>\n",
       "  </tbody>\n",
       "</table>\n",
       "</div>"
      ],
      "text/plain": [
       "   nombre_piece adresse  garantie  prix  surface  année_construction  \\\n",
       "0             2    sola       230    60       50                2015   \n",
       "1             3    golf      1200   360       75                2018   \n",
       "2             4  kasapa       340   230       80                2017   \n",
       "\n",
       "    categories  genre  \n",
       "0  Appartement      1  \n",
       "1       Maison      0  \n",
       "2  Appartement      1  "
      ]
     },
     "execution_count": 45,
     "metadata": {},
     "output_type": "execute_result"
    }
   ],
   "source": [
    "data[\"genre\"]= [1, 0, 1, 0, 1, 0, 1, 0, 1, 0, 1, 0, 1, 0, 1]\n",
    "data.head(3)"
   ]
  },
  {
   "cell_type": "markdown",
   "id": "598c6671-33ca-4955-a21a-a7ebe0c2c081",
   "metadata": {},
   "source": [
    "## Suppresiion d'une colonne "
   ]
  },
  {
   "cell_type": "code",
   "execution_count": 48,
   "id": "c5e8a42c-d2fe-4d7d-bffe-7f635680b47d",
   "metadata": {},
   "outputs": [
    {
     "data": {
      "text/plain": [
       "array([ 2.        ,  2.28282828,  2.56565657,  2.84848485,  3.13131313,\n",
       "        3.41414141,  3.6969697 ,  3.97979798,  4.26262626,  4.54545455,\n",
       "        4.82828283,  5.11111111,  5.39393939,  5.67676768,  5.95959596,\n",
       "        6.24242424,  6.52525253,  6.80808081,  7.09090909,  7.37373737,\n",
       "        7.65656566,  7.93939394,  8.22222222,  8.50505051,  8.78787879,\n",
       "        9.07070707,  9.35353535,  9.63636364,  9.91919192, 10.2020202 ,\n",
       "       10.48484848, 10.76767677, 11.05050505, 11.33333333, 11.61616162,\n",
       "       11.8989899 , 12.18181818, 12.46464646, 12.74747475, 13.03030303,\n",
       "       13.31313131, 13.5959596 , 13.87878788, 14.16161616, 14.44444444,\n",
       "       14.72727273, 15.01010101, 15.29292929, 15.57575758, 15.85858586,\n",
       "       16.14141414, 16.42424242, 16.70707071, 16.98989899, 17.27272727,\n",
       "       17.55555556, 17.83838384, 18.12121212, 18.4040404 , 18.68686869,\n",
       "       18.96969697, 19.25252525, 19.53535354, 19.81818182, 20.1010101 ,\n",
       "       20.38383838, 20.66666667, 20.94949495, 21.23232323, 21.51515152,\n",
       "       21.7979798 , 22.08080808, 22.36363636, 22.64646465, 22.92929293,\n",
       "       23.21212121, 23.49494949, 23.77777778, 24.06060606, 24.34343434,\n",
       "       24.62626263, 24.90909091, 25.19191919, 25.47474747, 25.75757576,\n",
       "       26.04040404, 26.32323232, 26.60606061, 26.88888889, 27.17171717,\n",
       "       27.45454545, 27.73737374, 28.02020202, 28.3030303 , 28.58585859,\n",
       "       28.86868687, 29.15151515, 29.43434343, 29.71717172, 30.        ])"
      ]
     },
     "execution_count": 48,
     "metadata": {},
     "output_type": "execute_result"
    }
   ],
   "source": [
    "x = np.linspace(2, 30, 100)\n",
    "x"
   ]
  },
  {
   "cell_type": "markdown",
   "id": "aadecec4-f841-4f36-9f37-45993271cee5",
   "metadata": {},
   "source": [
    "\n",
    "## D. Visualisation des données"
   ]
  },
  {
   "cell_type": "code",
   "execution_count": 51,
   "id": "a2474db6-2af0-4d34-8185-6d8d8cfb94dd",
   "metadata": {},
   "outputs": [
    {
     "data": {
      "text/plain": [
       "<matplotlib.legend.Legend at 0x223087da840>"
      ]
     },
     "execution_count": 51,
     "metadata": {},
     "output_type": "execute_result"
    },
    {
     "data": {
      "image/png": "[encoded data removed]",
      "text/plain": [
       "<Figure size 600x500 with 1 Axes>"
      ]
     },
     "metadata": {},
     "output_type": "display_data"
    }
   ],
   "source": [
    "from math import sqrt\n",
    "fig, ax = plt.subplots(figsize=(6, 5))\n",
    "ax.plot(x, x*2, label=\"Double de x\")\n",
    "ax.plot(x, x**2, label=\" le carré de x \")\n",
    "ax.plot(x, x%5, label=\" le modulo de x par 2 \")\n",
    "ax.set_xlabel(\"les valeurs de X\")\n",
    "ax.set_ylabel(\"les valeurs de Y\")\n",
    "plt.title(\"le valeurs de x en foction de y\")\n",
    "ax.legend()"
   ]
  },
  {
   "cell_type": "code",
   "execution_count": 52,
   "id": "19b0f414-500c-458c-bf26-64b4991cb804",
   "metadata": {},
   "outputs": [
    {
     "data": {
      "text/html": [
       "<div>\n",
       "<style scoped>\n",
       "    .dataframe tbody tr th:only-of-type {\n",
       "        vertical-align: middle;\n",
       "    }\n",
       "\n",
       "    .dataframe tbody tr th {\n",
       "        vertical-align: top;\n",
       "    }\n",
       "\n",
       "    .dataframe thead th {\n",
       "        text-align: right;\n",
       "    }\n",
       "</style>\n",
       "<table border=\"1\" class=\"dataframe\">\n",
       "  <thead>\n",
       "    <tr style=\"text-align: right;\">\n",
       "      <th></th>\n",
       "      <th>sepal_length</th>\n",
       "      <th>sepal_width</th>\n",
       "      <th>petal_length</th>\n",
       "      <th>petal_width</th>\n",
       "      <th>species</th>\n",
       "    </tr>\n",
       "  </thead>\n",
       "  <tbody>\n",
       "    <tr>\n",
       "      <th>0</th>\n",
       "      <td>5.1</td>\n",
       "      <td>3.5</td>\n",
       "      <td>1.4</td>\n",
       "      <td>0.2</td>\n",
       "      <td>setosa</td>\n",
       "    </tr>\n",
       "    <tr>\n",
       "      <th>1</th>\n",
       "      <td>4.9</td>\n",
       "      <td>3.0</td>\n",
       "      <td>1.4</td>\n",
       "      <td>0.2</td>\n",
       "      <td>setosa</td>\n",
       "    </tr>\n",
       "    <tr>\n",
       "      <th>2</th>\n",
       "      <td>4.7</td>\n",
       "      <td>3.2</td>\n",
       "      <td>1.3</td>\n",
       "      <td>0.2</td>\n",
       "      <td>setosa</td>\n",
       "    </tr>\n",
       "    <tr>\n",
       "      <th>3</th>\n",
       "      <td>4.6</td>\n",
       "      <td>3.1</td>\n",
       "      <td>1.5</td>\n",
       "      <td>0.2</td>\n",
       "      <td>setosa</td>\n",
       "    </tr>\n",
       "    <tr>\n",
       "      <th>4</th>\n",
       "      <td>5.0</td>\n",
       "      <td>3.6</td>\n",
       "      <td>1.4</td>\n",
       "      <td>0.2</td>\n",
       "      <td>setosa</td>\n",
       "    </tr>\n",
       "  </tbody>\n",
       "</table>\n",
       "</div>"
      ],
      "text/plain": [
       "   sepal_length  sepal_width  petal_length  petal_width species\n",
       "0           5.1          3.5           1.4          0.2  setosa\n",
       "1           4.9          3.0           1.4          0.2  setosa\n",
       "2           4.7          3.2           1.3          0.2  setosa\n",
       "3           4.6          3.1           1.5          0.2  setosa\n",
       "4           5.0          3.6           1.4          0.2  setosa"
      ]
     },
     "execution_count": 52,
     "metadata": {},
     "output_type": "execute_result"
    }
   ],
   "source": [
    "iris_data = sns.load_dataset(\"iris\")\n",
    "iris_data.head()"
   ]
  },
  {
   "cell_type": "code",
   "execution_count": 53,
   "id": "e817aea2-a7bd-4c57-bfdd-08f43dc22208",
   "metadata": {},
   "outputs": [
    {
     "data": {
      "text/plain": [
       "<Axes: ylabel='count'>"
      ]
     },
     "execution_count": 53,
     "metadata": {},
     "output_type": "execute_result"
    },
    {
     "data": {
      "image/png": "[encoded data removed]",
      "text/plain": [
       "<Figure size 640x480 with 1 Axes>"
      ]
     },
     "metadata": {},
     "output_type": "display_data"
    }
   ],
   "source": [
    "sns.countplot(data=iris_data)"
   ]
  },
  {
   "cell_type": "code",
   "execution_count": 57,
   "id": "023a1d49-3b80-4cd3-a62e-03350c4923b4",
   "metadata": {},
   "outputs": [
    {
     "data": {
      "text/plain": [
       "array(['setosa', 'versicolor', 'virginica'], dtype=object)"
      ]
     },
     "execution_count": 57,
     "metadata": {},
     "output_type": "execute_result"
    }
   ],
   "source": [
    "iris_data[\"species\"].unique()"
   ]
  },
  {
   "cell_type": "code",
   "execution_count": 59,
   "id": "8571ecd2-6291-4d02-9e93-b1de9be25e1c",
   "metadata": {},
   "outputs": [
    {
     "data": {
      "text/plain": [
       "Index(['sepal_length', 'sepal_width', 'petal_length', 'petal_width',\n",
       "       'species'],\n",
       "      dtype='object')"
      ]
     },
     "execution_count": 59,
     "metadata": {},
     "output_type": "execute_result"
    }
   ],
   "source": [
    "iris_data.columns"
   ]
  },
  {
   "cell_type": "code",
   "execution_count": 61,
   "id": "2ebfd01e-4a1d-4a07-9142-1f3f1303e1a9",
   "metadata": {},
   "outputs": [],
   "source": [
    "category_mapping = {'setosa': 0, 'versicolor': 1, 'virginica': 2}\n",
    "iris_data['species'] = iris_data['species'].map(category_mapping)"
   ]
  },
  {
   "cell_type": "code",
   "execution_count": 63,
   "id": "ed874c82-14b0-4172-938f-cb2ac8186e13",
   "metadata": {},
   "outputs": [
    {
     "data": {
      "text/plain": [
       "array([0, 1, 2], dtype=int64)"
      ]
     },
     "execution_count": 63,
     "metadata": {},
     "output_type": "execute_result"
    }
   ],
   "source": [
    "iris_data[\"species\"].unique()"
   ]
  },
  {
   "cell_type": "code",
   "execution_count": 65,
   "id": "3b3e04aa-9b8a-40e3-a8b9-03e3b7a02505",
   "metadata": {},
   "outputs": [
    {
     "data": {
      "text/html": [
       "<div>\n",
       "<style scoped>\n",
       "    .dataframe tbody tr th:only-of-type {\n",
       "        vertical-align: middle;\n",
       "    }\n",
       "\n",
       "    .dataframe tbody tr th {\n",
       "        vertical-align: top;\n",
       "    }\n",
       "\n",
       "    .dataframe thead th {\n",
       "        text-align: right;\n",
       "    }\n",
       "</style>\n",
       "<table border=\"1\" class=\"dataframe\">\n",
       "  <thead>\n",
       "    <tr style=\"text-align: right;\">\n",
       "      <th></th>\n",
       "      <th>sepal_length</th>\n",
       "      <th>sepal_width</th>\n",
       "      <th>petal_length</th>\n",
       "      <th>petal_width</th>\n",
       "      <th>species</th>\n",
       "    </tr>\n",
       "  </thead>\n",
       "  <tbody>\n",
       "    <tr>\n",
       "      <th>0</th>\n",
       "      <td>5.1</td>\n",
       "      <td>3.5</td>\n",
       "      <td>1.4</td>\n",
       "      <td>0.2</td>\n",
       "      <td>0</td>\n",
       "    </tr>\n",
       "    <tr>\n",
       "      <th>1</th>\n",
       "      <td>4.9</td>\n",
       "      <td>3.0</td>\n",
       "      <td>1.4</td>\n",
       "      <td>0.2</td>\n",
       "      <td>0</td>\n",
       "    </tr>\n",
       "    <tr>\n",
       "      <th>2</th>\n",
       "      <td>4.7</td>\n",
       "      <td>3.2</td>\n",
       "      <td>1.3</td>\n",
       "      <td>0.2</td>\n",
       "      <td>0</td>\n",
       "    </tr>\n",
       "    <tr>\n",
       "      <th>3</th>\n",
       "      <td>4.6</td>\n",
       "      <td>3.1</td>\n",
       "      <td>1.5</td>\n",
       "      <td>0.2</td>\n",
       "      <td>0</td>\n",
       "    </tr>\n",
       "    <tr>\n",
       "      <th>4</th>\n",
       "      <td>5.0</td>\n",
       "      <td>3.6</td>\n",
       "      <td>1.4</td>\n",
       "      <td>0.2</td>\n",
       "      <td>0</td>\n",
       "    </tr>\n",
       "    <tr>\n",
       "      <th>...</th>\n",
       "      <td>...</td>\n",
       "      <td>...</td>\n",
       "      <td>...</td>\n",
       "      <td>...</td>\n",
       "      <td>...</td>\n",
       "    </tr>\n",
       "    <tr>\n",
       "      <th>145</th>\n",
       "      <td>6.7</td>\n",
       "      <td>3.0</td>\n",
       "      <td>5.2</td>\n",
       "      <td>2.3</td>\n",
       "      <td>2</td>\n",
       "    </tr>\n",
       "    <tr>\n",
       "      <th>146</th>\n",
       "      <td>6.3</td>\n",
       "      <td>2.5</td>\n",
       "      <td>5.0</td>\n",
       "      <td>1.9</td>\n",
       "      <td>2</td>\n",
       "    </tr>\n",
       "    <tr>\n",
       "      <th>147</th>\n",
       "      <td>6.5</td>\n",
       "      <td>3.0</td>\n",
       "      <td>5.2</td>\n",
       "      <td>2.0</td>\n",
       "      <td>2</td>\n",
       "    </tr>\n",
       "    <tr>\n",
       "      <th>148</th>\n",
       "      <td>6.2</td>\n",
       "      <td>3.4</td>\n",
       "      <td>5.4</td>\n",
       "      <td>2.3</td>\n",
       "      <td>2</td>\n",
       "    </tr>\n",
       "    <tr>\n",
       "      <th>149</th>\n",
       "      <td>5.9</td>\n",
       "      <td>3.0</td>\n",
       "      <td>5.1</td>\n",
       "      <td>1.8</td>\n",
       "      <td>2</td>\n",
       "    </tr>\n",
       "  </tbody>\n",
       "</table>\n",
       "<p>150 rows × 5 columns</p>\n",
       "</div>"
      ],
      "text/plain": [
       "     sepal_length  sepal_width  petal_length  petal_width  species\n",
       "0             5.1          3.5           1.4          0.2        0\n",
       "1             4.9          3.0           1.4          0.2        0\n",
       "2             4.7          3.2           1.3          0.2        0\n",
       "3             4.6          3.1           1.5          0.2        0\n",
       "4             5.0          3.6           1.4          0.2        0\n",
       "..            ...          ...           ...          ...      ...\n",
       "145           6.7          3.0           5.2          2.3        2\n",
       "146           6.3          2.5           5.0          1.9        2\n",
       "147           6.5          3.0           5.2          2.0        2\n",
       "148           6.2          3.4           5.4          2.3        2\n",
       "149           5.9          3.0           5.1          1.8        2\n",
       "\n",
       "[150 rows x 5 columns]"
      ]
     },
     "execution_count": 65,
     "metadata": {},
     "output_type": "execute_result"
    }
   ],
   "source": [
    "iris_data"
   ]
  },
  {
   "cell_type": "code",
   "execution_count": null,
   "id": "6a434bd4-8b0b-42bd-b324-b7db02570213",
   "metadata": {},
   "outputs": [],
   "source": []
  },
  {
   "cell_type": "code",
   "execution_count": null,
   "id": "ac279b65-5247-4c0b-b630-dbd417f104a3",
   "metadata": {},
   "outputs": [],
   "source": []
  }
 ],
 "metadata": {
  "kernelspec": {
   "display_name": "Python 3 (ipykernel)",
   "language": "python",
   "name": "python3"
  },
  "language_info": {
   "codemirror_mode": {
    "name": "ipython",
    "version": 3
   },
   "file_extension": ".py",
   "mimetype": "text/x-python",
   "name": "python",
   "nbconvert_exporter": "python",
   "pygments_lexer": "ipython3",
   "version": "3.12.8"
  }
 },
 "nbformat": 4,
 "nbformat_minor": 5
}
